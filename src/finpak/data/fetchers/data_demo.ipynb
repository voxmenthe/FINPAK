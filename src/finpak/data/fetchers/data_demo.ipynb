{
 "cells": [
  {
   "cell_type": "code",
   "execution_count": 1,
   "metadata": {},
   "outputs": [],
   "source": [
    "import os\n",
    "from yahoo_data import check_existing_data, list_available_data, download_historical_data"
   ]
  },
  {
   "cell_type": "code",
   "execution_count": 2,
   "metadata": {},
   "outputs": [],
   "source": [
    "ticker = 'AAPL'\n",
    "file_format = 'csv'"
   ]
  },
  {
   "cell_type": "code",
   "execution_count": 5,
   "metadata": {},
   "outputs": [],
   "source": [
    "# start_date = '2023-01-01'\n",
    "# end_date = '2023-12-31'\n",
    "start_date = '2024-05-01'\n",
    "end_date = '2024-12-31'"
   ]
  },
  {
   "cell_type": "code",
   "execution_count": 4,
   "metadata": {},
   "outputs": [
    {
     "data": {
      "text/plain": [
       "{'start_date': '2023-01-03', 'end_date': '2023-12-29'}"
      ]
     },
     "execution_count": 4,
     "metadata": {},
     "output_type": "execute_result"
    }
   ],
   "source": [
    "check_existing_data(ticker, interval='1d', file_format='csv', folder_path='data_store')"
   ]
  },
  {
   "cell_type": "code",
   "execution_count": 6,
   "metadata": {},
   "outputs": [
    {
     "ename": "UnboundLocalError",
     "evalue": "cannot access local variable 'existing_data' where it is not associated with a value",
     "output_type": "error",
     "traceback": [
      "\u001b[0;31m---------------------------------------------------------------------------\u001b[0m",
      "\u001b[0;31mUnboundLocalError\u001b[0m                         Traceback (most recent call last)",
      "Cell \u001b[0;32mIn[6], line 1\u001b[0m\n\u001b[0;32m----> 1\u001b[0m \u001b[43mdownload_historical_data\u001b[49m\u001b[43m(\u001b[49m\u001b[43mticker\u001b[49m\u001b[43m,\u001b[49m\u001b[43m \u001b[49m\u001b[43mstart_date\u001b[49m\u001b[43m,\u001b[49m\u001b[43m \u001b[49m\u001b[43mend_date\u001b[49m\u001b[43m,\u001b[49m\u001b[43m \u001b[49m\u001b[43minterval\u001b[49m\u001b[38;5;241;43m=\u001b[39;49m\u001b[38;5;124;43m'\u001b[39;49m\u001b[38;5;124;43m1d\u001b[39;49m\u001b[38;5;124;43m'\u001b[39;49m\u001b[43m,\u001b[49m\u001b[43m \u001b[49m\u001b[43mfile_format\u001b[49m\u001b[38;5;241;43m=\u001b[39;49m\u001b[38;5;124;43m'\u001b[39;49m\u001b[38;5;124;43mcsv\u001b[39;49m\u001b[38;5;124;43m'\u001b[39;49m\u001b[43m)\u001b[49m\n",
      "File \u001b[0;32m/Volumes/ExtremeSSD/repos/FINPAK/FINPAK/data/fetchers/yahoo_data.py:119\u001b[0m, in \u001b[0;36mdownload_historical_data\u001b[0;34m(ticker, start_date, end_date, interval, file_format, folder_path)\u001b[0m\n\u001b[1;32m    116\u001b[0m \u001b[38;5;28;01melif\u001b[39;00m file_format \u001b[38;5;241m==\u001b[39m \u001b[38;5;124m'\u001b[39m\u001b[38;5;124mparquet\u001b[39m\u001b[38;5;124m'\u001b[39m \u001b[38;5;129;01mand\u001b[39;00m ticker_path\u001b[38;5;241m.\u001b[39mendswith(\u001b[38;5;124m'\u001b[39m\u001b[38;5;124m.parquet\u001b[39m\u001b[38;5;124m'\u001b[39m):\n\u001b[1;32m    117\u001b[0m     data \u001b[38;5;241m=\u001b[39m pd\u001b[38;5;241m.\u001b[39mread_parquet(ticker_path)\n\u001b[0;32m--> 119\u001b[0m existing_data \u001b[38;5;241m=\u001b[39m pd\u001b[38;5;241m.\u001b[39mconcat([\u001b[43mexisting_data\u001b[49m, data])\n\u001b[1;32m    120\u001b[0m existing_data \u001b[38;5;241m=\u001b[39m existing_data\u001b[38;5;241m.\u001b[39msort_index()\u001b[38;5;241m.\u001b[39mdrop_duplicates()\n\u001b[1;32m    122\u001b[0m \u001b[38;5;28;01mif\u001b[39;00m need_earlier_data:\n",
      "\u001b[0;31mUnboundLocalError\u001b[0m: cannot access local variable 'existing_data' where it is not associated with a value"
     ]
    }
   ],
   "source": [
    "download_historical_data(ticker, start_date, end_date, interval='1d', file_format='csv')"
   ]
  },
  {
   "cell_type": "code",
   "execution_count": 4,
   "metadata": {},
   "outputs": [
    {
     "name": "stdout",
     "output_type": "stream",
     "text": [
      "Available data files:\n",
      "IBM.csv\n"
     ]
    }
   ],
   "source": [
    "# List available data\n",
    "print(\"Available data files:\")\n",
    "available_files = list_available_data(ticker, file_format)\n",
    "for file in available_files:\n",
    "    print(file)"
   ]
  },
  {
   "cell_type": "code",
   "execution_count": 5,
   "metadata": {},
   "outputs": [
    {
     "data": {
      "text/plain": [
       "['AAPL.csv', '._AAPL.csv']"
      ]
     },
     "execution_count": 5,
     "metadata": {},
     "output_type": "execute_result"
    }
   ],
   "source": [
    "os.listdir('data_store')"
   ]
  },
  {
   "cell_type": "code",
   "execution_count": 6,
   "metadata": {},
   "outputs": [
    {
     "data": {
      "text/plain": [
       "['AAPL.csv']"
      ]
     },
     "execution_count": 6,
     "metadata": {},
     "output_type": "execute_result"
    }
   ],
   "source": [
    "[f for f in os.listdir('data_store') if f.startswith(f'AAPL') and f.endswith(f'.csv')]"
   ]
  },
  {
   "cell_type": "code",
   "execution_count": null,
   "metadata": {},
   "outputs": [],
   "source": [
    "\n",
    "# Check existing data\n",
    "print(\"\\nChecking existing data:\")\n",
    "existing_data = check_existing_data(ticker, start_date, end_date, file_format=file_format)\n",
    "if existing_data is not None:\n",
    "    print(existing_data)\n",
    "else:\n",
    "    print(\"No existing data found for the specified range.\")\n",
    "\n",
    "# Update data file\n",
    "print(\"\\nUpdating data file:\")\n",
    "update_data_file(ticker, file_format=file_format)\n",
    "print(\"Data file updated.\")"
   ]
  }
 ],
 "metadata": {
  "kernelspec": {
   "display_name": "py3124",
   "language": "python",
   "name": "python3"
  },
  "language_info": {
   "codemirror_mode": {
    "name": "ipython",
    "version": 3
   },
   "file_extension": ".py",
   "mimetype": "text/x-python",
   "name": "python",
   "nbconvert_exporter": "python",
   "pygments_lexer": "ipython3",
   "version": "3.12.4"
  }
 },
 "nbformat": 4,
 "nbformat_minor": 2
}
