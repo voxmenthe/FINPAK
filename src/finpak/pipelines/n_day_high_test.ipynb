{
 "cells": [
  {
   "cell_type": "code",
   "execution_count": 1,
   "metadata": {},
   "outputs": [],
   "source": [
    "import numpy as np\n",
    "from data.fetchers.yahoo import download_multiple_tickers\n",
    "from utils.calculations import n_day_high_in_last_k_days, rolling_window"
   ]
  },
  {
   "cell_type": "code",
   "execution_count": 2,
   "metadata": {},
   "outputs": [
    {
     "name": "stderr",
     "output_type": "stream",
     "text": [
      "[*********************100%%**********************]  3 of 3 completed\n"
     ]
    },
    {
     "data": {
      "text/html": [
       "<div>\n",
       "<style scoped>\n",
       "    .dataframe tbody tr th:only-of-type {\n",
       "        vertical-align: middle;\n",
       "    }\n",
       "\n",
       "    .dataframe tbody tr th {\n",
       "        vertical-align: top;\n",
       "    }\n",
       "\n",
       "    .dataframe thead th {\n",
       "        text-align: right;\n",
       "    }\n",
       "</style>\n",
       "<table border=\"1\" class=\"dataframe\">\n",
       "  <thead>\n",
       "    <tr style=\"text-align: right;\">\n",
       "      <th>Ticker</th>\n",
       "      <th>AAPL</th>\n",
       "      <th>GOOGL</th>\n",
       "      <th>MSFT</th>\n",
       "    </tr>\n",
       "    <tr>\n",
       "      <th>Date</th>\n",
       "      <th></th>\n",
       "      <th></th>\n",
       "      <th></th>\n",
       "    </tr>\n",
       "  </thead>\n",
       "  <tbody>\n",
       "    <tr>\n",
       "      <th>2024-07-19</th>\n",
       "      <td>224.050659</td>\n",
       "      <td>177.660004</td>\n",
       "      <td>436.323547</td>\n",
       "    </tr>\n",
       "    <tr>\n",
       "      <th>2024-07-22</th>\n",
       "      <td>223.701080</td>\n",
       "      <td>181.669998</td>\n",
       "      <td>442.143066</td>\n",
       "    </tr>\n",
       "    <tr>\n",
       "      <th>2024-07-23</th>\n",
       "      <td>224.749847</td>\n",
       "      <td>181.789993</td>\n",
       "      <td>444.049652</td>\n",
       "    </tr>\n",
       "    <tr>\n",
       "      <th>2024-07-24</th>\n",
       "      <td>218.287323</td>\n",
       "      <td>172.630005</td>\n",
       "      <td>428.128326</td>\n",
       "    </tr>\n",
       "    <tr>\n",
       "      <th>2024-07-25</th>\n",
       "      <td>217.238556</td>\n",
       "      <td>167.279999</td>\n",
       "      <td>417.647217</td>\n",
       "    </tr>\n",
       "    <tr>\n",
       "      <th>2024-07-26</th>\n",
       "      <td>217.708008</td>\n",
       "      <td>167.000000</td>\n",
       "      <td>424.504852</td>\n",
       "    </tr>\n",
       "    <tr>\n",
       "      <th>2024-07-29</th>\n",
       "      <td>217.987686</td>\n",
       "      <td>169.529999</td>\n",
       "      <td>425.962250</td>\n",
       "    </tr>\n",
       "    <tr>\n",
       "      <th>2024-07-30</th>\n",
       "      <td>218.547043</td>\n",
       "      <td>170.289993</td>\n",
       "      <td>422.159119</td>\n",
       "    </tr>\n",
       "  </tbody>\n",
       "</table>\n",
       "</div>"
      ],
      "text/plain": [
       "Ticker            AAPL       GOOGL        MSFT\n",
       "Date                                          \n",
       "2024-07-19  224.050659  177.660004  436.323547\n",
       "2024-07-22  223.701080  181.669998  442.143066\n",
       "2024-07-23  224.749847  181.789993  444.049652\n",
       "2024-07-24  218.287323  172.630005  428.128326\n",
       "2024-07-25  217.238556  167.279999  417.647217\n",
       "2024-07-26  217.708008  167.000000  424.504852\n",
       "2024-07-29  217.987686  169.529999  425.962250\n",
       "2024-07-30  218.547043  170.289993  422.159119"
      ]
     },
     "execution_count": 2,
     "metadata": {},
     "output_type": "execute_result"
    }
   ],
   "source": [
    "tickers = ['AAPL', 'MSFT', 'GOOGL']\n",
    "start_date = '2024-04-01'\n",
    "end_date = '2024-07-31'\n",
    "n = 6\n",
    "k = 12\n",
    "\n",
    "# Download historical data for the tickers\n",
    "data = download_multiple_tickers(tickers, start_date, end_date)\n",
    "data = data.loc[:,'Adj Close'] # Extract from multi-index dataframe\n",
    "data.tail(8)\n"
   ]
  },
  {
   "cell_type": "code",
   "execution_count": 3,
   "metadata": {},
   "outputs": [
    {
     "data": {
      "text/plain": [
       "(array([234.54852295, 191.17999268, 465.41113281]),\n",
       " array([ True, False, False]))"
      ]
     },
     "execution_count": 3,
     "metadata": {},
     "output_type": "execute_result"
    }
   ],
   "source": [
    "n_day_high_in_last_k_days(data.values, n, k)"
   ]
  },
  {
   "cell_type": "code",
   "execution_count": null,
   "metadata": {},
   "outputs": [],
   "source": [
    "\n",
    "# Check how many tickers saw an N-day high in the past k days\n",
    "for ticker in tickers:\n",
    "    ticker_data = data['Close'][ticker]\n",
    "    if len(ticker_data) >= n:\n",
    "        result = n_day_high_in_last_k_days(ticker_data.values, n, k)\n",
    "        count = result[-k:].sum()\n",
    "        print(f\"{ticker} saw an N-day high {count} times in the past {k} days.\")\n",
    "    else:\n",
    "        print(f\"{ticker} does not have enough data to calculate {n}-day highs.\")"
   ]
  },
  {
   "cell_type": "code",
   "execution_count": 17,
   "metadata": {},
   "outputs": [
    {
     "ename": "ValueError",
     "evalue": "operands could not be broadcast together with shapes (3,) (8,) ",
     "output_type": "error",
     "traceback": [
      "\u001b[0;31m---------------------------------------------------------------------------\u001b[0m",
      "\u001b[0;31mValueError\u001b[0m                                Traceback (most recent call last)",
      "Cell \u001b[0;32mIn[17], line 1\u001b[0m\n\u001b[0;32m----> 1\u001b[0m \u001b[43mn_day_high_in_last_k_days\u001b[49m\u001b[43m(\u001b[49m\u001b[43mdata\u001b[49m\u001b[38;5;241;43m.\u001b[39;49m\u001b[43mvalues\u001b[49m\u001b[43m,\u001b[49m\u001b[43m \u001b[49m\u001b[43mn\u001b[49m\u001b[43m,\u001b[49m\u001b[43m \u001b[49m\u001b[43mk\u001b[49m\u001b[43m)\u001b[49m\n",
      "File \u001b[0;32m/Volumes/ExtremeSSD/repos/FINPAK/FINPAK/utils/calculations.py:49\u001b[0m, in \u001b[0;36mn_day_high_in_last_k_days\u001b[0;34m(data, n, k)\u001b[0m\n\u001b[1;32m     46\u001b[0m     max_in_next_k_days \u001b[38;5;241m=\u001b[39m np\u001b[38;5;241m.\u001b[39mmax(data[i\u001b[38;5;241m+\u001b[39m\u001b[38;5;241m1\u001b[39m:i\u001b[38;5;241m+\u001b[39mk\u001b[38;5;241m+\u001b[39m\u001b[38;5;241m1\u001b[39m], axis\u001b[38;5;241m=\u001b[39m\u001b[38;5;241m0\u001b[39m)\n\u001b[1;32m     48\u001b[0m     \u001b[38;5;66;03m# Compare with the N-day highs\u001b[39;00m\n\u001b[0;32m---> 49\u001b[0m     result[i] \u001b[38;5;241m=\u001b[39m \u001b[43mmax_in_next_k_days\u001b[49m\u001b[43m \u001b[49m\u001b[38;5;241;43m>\u001b[39;49m\u001b[38;5;241;43m=\u001b[39;49m\u001b[43m \u001b[49m\u001b[43mn_day_highs\u001b[49m\u001b[43m[\u001b[49m\u001b[43mi\u001b[49m\u001b[43m]\u001b[49m\n\u001b[1;32m     51\u001b[0m \u001b[38;5;28;01mreturn\u001b[39;00m result\n",
      "\u001b[0;31mValueError\u001b[0m: operands could not be broadcast together with shapes (3,) (8,) "
     ]
    }
   ],
   "source": [
    "n_day_high_in_last_k_days(data.values, n, k)"
   ]
  },
  {
   "cell_type": "code",
   "execution_count": null,
   "metadata": {},
   "outputs": [],
   "source": []
  }
 ],
 "metadata": {
  "kernelspec": {
   "display_name": "py3124",
   "language": "python",
   "name": "python3"
  },
  "language_info": {
   "codemirror_mode": {
    "name": "ipython",
    "version": 3
   },
   "file_extension": ".py",
   "mimetype": "text/x-python",
   "name": "python",
   "nbconvert_exporter": "python",
   "pygments_lexer": "ipython3",
   "version": "3.12.4"
  }
 },
 "nbformat": 4,
 "nbformat_minor": 2
}
