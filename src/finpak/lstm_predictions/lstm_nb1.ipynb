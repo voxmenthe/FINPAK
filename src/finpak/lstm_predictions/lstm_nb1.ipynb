{
 "cells": [
  {
   "cell_type": "code",
   "execution_count": 46,
   "metadata": {},
   "outputs": [],
   "source": [
    "import numpy as np\n",
    "import pandas as pd\n",
    "import matplotlib.pyplot as plt\n",
    "\n",
    "import torch\n",
    "import torch.nn as nn\n",
    "from torch.utils.data import Dataset, DataLoader, Subset\n",
    "\n",
    "from sklearn.preprocessing import StandardScaler\n",
    "from finpak.data.fetchers.yahoo import download_multiple_tickers"
   ]
  },
  {
   "cell_type": "code",
   "execution_count": 17,
   "metadata": {},
   "outputs": [
    {
     "name": "stdout",
     "output_type": "stream",
     "text": [
      "Using device: mps\n"
     ]
    }
   ],
   "source": [
    "def get_device():\n",
    "    if torch.backends.mps.is_available():\n",
    "        return torch.device(\"mps\")\n",
    "    elif torch.cuda.is_available():\n",
    "        return torch.device(\"cuda\")\n",
    "    else:\n",
    "        return torch.device(\"cpu\")\n",
    "\n",
    "# Use this device throughout your code\n",
    "device = get_device()\n",
    "print(f\"Using device: {device}\")"
   ]
  },
  {
   "cell_type": "code",
   "execution_count": 40,
   "metadata": {},
   "outputs": [
    {
     "name": "stderr",
     "output_type": "stream",
     "text": [
      "[*********************100%***********************]  3 of 3 completed\n"
     ]
    },
    {
     "data": {
      "text/html": [
       "<div>\n",
       "<style scoped>\n",
       "    .dataframe tbody tr th:only-of-type {\n",
       "        vertical-align: middle;\n",
       "    }\n",
       "\n",
       "    .dataframe tbody tr th {\n",
       "        vertical-align: top;\n",
       "    }\n",
       "\n",
       "    .dataframe thead th {\n",
       "        text-align: right;\n",
       "    }\n",
       "</style>\n",
       "<table border=\"1\" class=\"dataframe\">\n",
       "  <thead>\n",
       "    <tr style=\"text-align: right;\">\n",
       "      <th>Ticker</th>\n",
       "      <th>AAPL</th>\n",
       "      <th>GOOGL</th>\n",
       "      <th>MSFT</th>\n",
       "    </tr>\n",
       "    <tr>\n",
       "      <th>Date</th>\n",
       "      <th></th>\n",
       "      <th></th>\n",
       "      <th></th>\n",
       "    </tr>\n",
       "  </thead>\n",
       "  <tbody>\n",
       "    <tr>\n",
       "      <th>2024-08-21 00:00:00+00:00</th>\n",
       "      <td>226.399994</td>\n",
       "      <td>165.630219</td>\n",
       "      <td>424.140015</td>\n",
       "    </tr>\n",
       "    <tr>\n",
       "      <th>2024-08-22 00:00:00+00:00</th>\n",
       "      <td>224.529999</td>\n",
       "      <td>163.582932</td>\n",
       "      <td>415.549988</td>\n",
       "    </tr>\n",
       "    <tr>\n",
       "      <th>2024-08-23 00:00:00+00:00</th>\n",
       "      <td>226.839996</td>\n",
       "      <td>165.400513</td>\n",
       "      <td>416.790009</td>\n",
       "    </tr>\n",
       "    <tr>\n",
       "      <th>2024-08-26 00:00:00+00:00</th>\n",
       "      <td>227.179993</td>\n",
       "      <td>165.939804</td>\n",
       "      <td>413.489990</td>\n",
       "    </tr>\n",
       "    <tr>\n",
       "      <th>2024-08-27 00:00:00+00:00</th>\n",
       "      <td>228.029999</td>\n",
       "      <td>164.461761</td>\n",
       "      <td>413.839996</td>\n",
       "    </tr>\n",
       "    <tr>\n",
       "      <th>2024-08-28 00:00:00+00:00</th>\n",
       "      <td>226.490005</td>\n",
       "      <td>162.634201</td>\n",
       "      <td>410.600006</td>\n",
       "    </tr>\n",
       "    <tr>\n",
       "      <th>2024-08-29 00:00:00+00:00</th>\n",
       "      <td>229.789993</td>\n",
       "      <td>161.565613</td>\n",
       "      <td>413.119995</td>\n",
       "    </tr>\n",
       "    <tr>\n",
       "      <th>2024-08-30 00:00:00+00:00</th>\n",
       "      <td>229.000000</td>\n",
       "      <td>163.163498</td>\n",
       "      <td>417.140015</td>\n",
       "    </tr>\n",
       "  </tbody>\n",
       "</table>\n",
       "</div>"
      ],
      "text/plain": [
       "Ticker                           AAPL       GOOGL        MSFT\n",
       "Date                                                         \n",
       "2024-08-21 00:00:00+00:00  226.399994  165.630219  424.140015\n",
       "2024-08-22 00:00:00+00:00  224.529999  163.582932  415.549988\n",
       "2024-08-23 00:00:00+00:00  226.839996  165.400513  416.790009\n",
       "2024-08-26 00:00:00+00:00  227.179993  165.939804  413.489990\n",
       "2024-08-27 00:00:00+00:00  228.029999  164.461761  413.839996\n",
       "2024-08-28 00:00:00+00:00  226.490005  162.634201  410.600006\n",
       "2024-08-29 00:00:00+00:00  229.789993  161.565613  413.119995\n",
       "2024-08-30 00:00:00+00:00  229.000000  163.163498  417.140015"
      ]
     },
     "execution_count": 40,
     "metadata": {},
     "output_type": "execute_result"
    }
   ],
   "source": [
    "tickers = ['AAPL', 'MSFT', 'GOOGL']\n",
    "start_date = '2000-04-01'\n",
    "end_date = '2024-08-31'\n",
    "\n",
    "# Download historical data for the tickers\n",
    "data_df = download_multiple_tickers(tickers, start_date, end_date)\n",
    "data_df = data_df.loc[:,'Adj Close'] # Extract from multi-index dataframe\n",
    "data_df.tail(8)"
   ]
  },
  {
   "cell_type": "code",
   "execution_count": 41,
   "metadata": {},
   "outputs": [
    {
     "data": {
      "text/html": [
       "<div>\n",
       "<style scoped>\n",
       "    .dataframe tbody tr th:only-of-type {\n",
       "        vertical-align: middle;\n",
       "    }\n",
       "\n",
       "    .dataframe tbody tr th {\n",
       "        vertical-align: top;\n",
       "    }\n",
       "\n",
       "    .dataframe thead th {\n",
       "        text-align: right;\n",
       "    }\n",
       "</style>\n",
       "<table border=\"1\" class=\"dataframe\">\n",
       "  <thead>\n",
       "    <tr style=\"text-align: right;\">\n",
       "      <th>Ticker</th>\n",
       "      <th>AAPL</th>\n",
       "      <th>GOOGL</th>\n",
       "      <th>MSFT</th>\n",
       "    </tr>\n",
       "    <tr>\n",
       "      <th>Date</th>\n",
       "      <th></th>\n",
       "      <th></th>\n",
       "      <th></th>\n",
       "    </tr>\n",
       "  </thead>\n",
       "  <tbody>\n",
       "    <tr>\n",
       "      <th>2000-04-03 00:00:00+00:00</th>\n",
       "      <td>1.005170</td>\n",
       "      <td>NaN</td>\n",
       "      <td>28.016479</td>\n",
       "    </tr>\n",
       "    <tr>\n",
       "      <th>2000-04-04 00:00:00+00:00</th>\n",
       "      <td>0.959931</td>\n",
       "      <td>NaN</td>\n",
       "      <td>27.303549</td>\n",
       "    </tr>\n",
       "  </tbody>\n",
       "</table>\n",
       "</div>"
      ],
      "text/plain": [
       "Ticker                         AAPL  GOOGL       MSFT\n",
       "Date                                                 \n",
       "2000-04-03 00:00:00+00:00  1.005170    NaN  28.016479\n",
       "2000-04-04 00:00:00+00:00  0.959931    NaN  27.303549"
      ]
     },
     "execution_count": 41,
     "metadata": {},
     "output_type": "execute_result"
    }
   ],
   "source": [
    "data_df.head(2)"
   ]
  },
  {
   "cell_type": "code",
   "execution_count": 4,
   "metadata": {},
   "outputs": [
    {
     "data": {
      "text/plain": [
       "array([225.88999939, 226.50999451, 226.3999939 , 224.52999878,\n",
       "       226.83999634, 227.17999268, 228.02999878, 226.49000549,\n",
       "       229.78999329, 229.        ])"
      ]
     },
     "execution_count": 4,
     "metadata": {},
     "output_type": "execute_result"
    }
   ],
   "source": [
    "data_df['AAPL'].values[-10:]"
   ]
  },
  {
   "cell_type": "code",
   "execution_count": 6,
   "metadata": {},
   "outputs": [],
   "source": [
    "prices = data_df['AAPL'].values \n",
    "# Calculate percentage changes\n",
    "pct_changes = np.diff(prices) / prices[:-1]\n",
    "\n",
    "# Optionally adjust by volatility\n",
    "adjust_by_volatility = False # True\n",
    "if adjust_by_volatility:\n",
    "    volatility = np.std(pct_changes)\n",
    "    pct_changes = pct_changes / volatility"
   ]
  },
  {
   "cell_type": "code",
   "execution_count": 7,
   "metadata": {},
   "outputs": [
    {
     "data": {
      "text/plain": [
       "array([-0.04500606,  0.02405524, -0.03978892,  0.05242001, -0.05123333,\n",
       "       -0.04449974, -0.0852957 ,  0.04176232, -0.01702321,  0.10726274])"
      ]
     },
     "execution_count": 7,
     "metadata": {},
     "output_type": "execute_result"
    }
   ],
   "source": [
    "pct_changes[:10]"
   ]
  },
  {
   "cell_type": "code",
   "execution_count": 8,
   "metadata": {},
   "outputs": [
    {
     "data": {
      "text/plain": [
       "(6141, 6142)"
      ]
     },
     "execution_count": 8,
     "metadata": {},
     "output_type": "execute_result"
    }
   ],
   "source": [
    "len(pct_changes), len(prices)"
   ]
  },
  {
   "cell_type": "code",
   "execution_count": 9,
   "metadata": {},
   "outputs": [
    {
     "data": {
      "text/plain": [
       "array([-1.91015878,  0.94547793, -1.69443369,  2.11834126, -2.16765216,\n",
       "       -1.88922294, -3.57610755,  1.67765322, -0.75308758,  4.3860501 ])"
      ]
     },
     "execution_count": 9,
     "metadata": {},
     "output_type": "execute_result"
    }
   ],
   "source": [
    "scaler = StandardScaler()\n",
    "pct_changes = scaler.fit_transform(pct_changes.reshape(-1, 1)).flatten()\n",
    "pct_changes[:10]"
   ]
  },
  {
   "cell_type": "code",
   "execution_count": 10,
   "metadata": {},
   "outputs": [],
   "source": [
    "\"\"\"\n",
    "- **Create Sequences:**\n",
    "  - Decide on a sequence length (e.g., 50).\n",
    "  - Convert the percentage changes into input-output pairs where each input is a sequence of `sequence_length` steps, and the output is the next value.\n",
    "\"\"\"\n",
    "\n",
    "sequence_length = 10\n",
    "X = []\n",
    "y = []\n",
    "\n",
    "for i in range(len(pct_changes) - sequence_length):\n",
    "    X.append(pct_changes[i:i + sequence_length])\n",
    "    y.append(pct_changes[i + sequence_length])\n",
    "\n",
    "X = np.array(X)\n",
    "y = np.array(y)"
   ]
  },
  {
   "cell_type": "code",
   "execution_count": 18,
   "metadata": {},
   "outputs": [],
   "source": [
    "class StockDataset(Dataset):\n",
    "    def __init__(self, sequences, targets):\n",
    "        self.sequences = sequences\n",
    "        self.targets = targets\n",
    "\n",
    "    def __len__(self):\n",
    "        return len(self.sequences)\n",
    "\n",
    "    def __getitem__(self, idx):\n",
    "        sequence = torch.tensor(self.sequences[idx], dtype=torch.float32).to(device)\n",
    "        target = torch.tensor(self.targets[idx], dtype=torch.float32).to(device)\n",
    "        return sequence, target\n",
    "\n",
    "\n",
    "class LSTMModel(nn.Module):\n",
    "    def __init__(self, input_size=1, hidden_size=50, num_layers=2):\n",
    "        super(LSTMModel, self).__init__()\n",
    "        self.hidden_size = hidden_size\n",
    "        self.num_layers = num_layers\n",
    "        self.lstm = nn.LSTM(input_size, hidden_size, num_layers, batch_first=True)\n",
    "        self.fc = nn.Linear(hidden_size, 1)\n",
    "\n",
    "    def forward(self, x):\n",
    "        # Initialize hidden state and cell state\n",
    "        h0 = torch.zeros(self.num_layers, x.size(0), self.hidden_size)\n",
    "        c0 = torch.zeros(self.num_layers, x.size(0), self.hidden_size)\n",
    "\n",
    "        # LSTM forward pass\n",
    "        out, _ = self.lstm(x.unsqueeze(-1), (h0, c0))  # x.unsqueeze(-1) to add input_size dimension\n",
    "\n",
    "        # Take the output from the last time step\n",
    "        out = self.fc(out[:, -1, :])\n",
    "        return out.squeeze()\n",
    "\n",
    "class SwishActivation(nn.Module):\n",
    "    def forward(self, x):\n",
    "        return x * torch.sigmoid(x)\n",
    "\n",
    "class LSTMLayer(nn.Module):\n",
    "    def __init__(self, input_size, hidden_size):\n",
    "        super(LSTMLayer, self).__init__()\n",
    "        self.lstm = nn.LSTM(input_size, hidden_size, batch_first=True)\n",
    "        self.layer_norm = nn.LayerNorm(hidden_size)\n",
    "        self.swish = SwishActivation()\n",
    "\n",
    "    def forward(self, x, hidden=None):\n",
    "        out, hidden = self.lstm(x, hidden)\n",
    "        out = self.layer_norm(out)\n",
    "        out = self.swish(out)\n",
    "        return out, hidden\n",
    "\n",
    "class EnhancedLSTMModel(nn.Module):\n",
    "    def __init__(self, input_size=1, hidden_size=50, num_layers=2):\n",
    "        super(EnhancedLSTMModel, self).__init__()\n",
    "        self.hidden_size = hidden_size\n",
    "        self.num_layers = num_layers\n",
    "        \n",
    "        self.layers = nn.ModuleList([\n",
    "            LSTMLayer(input_size if i == 0 else hidden_size, hidden_size)\n",
    "            for i in range(num_layers)\n",
    "        ])\n",
    "        \n",
    "        self.fc = nn.Linear(hidden_size, 1)\n",
    "        self.layer_norm_final = nn.LayerNorm(hidden_size)\n",
    "        self.swish = SwishActivation()\n",
    "\n",
    "    def forward(self, x):\n",
    "        batch_size = x.size(0)\n",
    "        h0 = torch.zeros(1, batch_size, self.hidden_size).to(x.device)\n",
    "        c0 = torch.zeros(1, batch_size, self.hidden_size).to(x.device)\n",
    "        hidden = (h0, c0)\n",
    "\n",
    "        residual = None\n",
    "        for i, layer in enumerate(self.layers):\n",
    "            if i == 0:\n",
    "                out, hidden = layer(x.unsqueeze(-1), hidden)\n",
    "            else:\n",
    "                layer_input = out if residual is None else out + residual\n",
    "                out, hidden = layer(layer_input, hidden)\n",
    "            \n",
    "            if i > 0:  # Apply residual connection for all layers except the first\n",
    "                residual = out\n",
    "\n",
    "        out = self.layer_norm_final(out)\n",
    "        out = self.swish(out)\n",
    "        out = self.fc(out[:, -1, :])\n",
    "        return out.squeeze()"
   ]
  },
  {
   "cell_type": "code",
   "execution_count": 15,
   "metadata": {},
   "outputs": [],
   "source": [
    "# Create the full dataset\n",
    "full_dataset = StockDataset(X, y)\n",
    "\n",
    "# Define split ratios\n",
    "train_ratio = 0.88\n",
    "val_ratio = 0.12\n",
    "\n",
    "# Calculate split indices\n",
    "train_size = int(len(y) * train_ratio)\n",
    "val_size = int(len(y) * val_ratio)\n",
    "\n",
    "# Split the dataset sequentially\n",
    "train_dataset = torch.utils.data.Subset(full_dataset, range(train_size))\n",
    "val_dataset = torch.utils.data.Subset(full_dataset, range(train_size, train_size + val_size))\n",
    "\n",
    "# Create DataLoaders\n",
    "batch_size = 64\n",
    "train_loader = DataLoader(train_dataset, batch_size=batch_size, shuffle=False)\n",
    "val_loader = DataLoader(val_dataset, batch_size=batch_size, shuffle=False)"
   ]
  },
  {
   "cell_type": "code",
   "execution_count": 19,
   "metadata": {},
   "outputs": [],
   "source": [
    "#model = LSTMModel()\n",
    "model = EnhancedLSTMModel(hidden_size=2048, num_layers=3).to(device)\n",
    "criterion = nn.MSELoss()\n",
    "optimizer = torch.optim.Adam(model.parameters(), lr=0.00075)\n",
    "best_val_loss = float('inf')"
   ]
  },
  {
   "cell_type": "code",
   "execution_count": 21,
   "metadata": {},
   "outputs": [
    {
     "name": "stdout",
     "output_type": "stream",
     "text": [
      "Epoch [1/112]\n",
      "Train Loss: 1.0857\n",
      "Validation Loss: 0.5135\n",
      "--------------------------------------------------\n",
      "Epoch [2/112]\n",
      "Train Loss: 1.0854\n",
      "Validation Loss: 0.5131\n",
      "--------------------------------------------------\n",
      "Epoch [3/112]\n",
      "Train Loss: 1.0851\n",
      "Validation Loss: 0.5127\n",
      "--------------------------------------------------\n",
      "Epoch [4/112]\n",
      "Train Loss: 1.0847\n",
      "Validation Loss: 0.5123\n",
      "--------------------------------------------------\n",
      "Epoch [5/112]\n",
      "Train Loss: 1.0836\n",
      "Validation Loss: 0.5345\n",
      "--------------------------------------------------\n",
      "Epoch [6/112]\n",
      "Train Loss: 1.0869\n",
      "Validation Loss: 0.5156\n",
      "--------------------------------------------------\n",
      "Epoch [7/112]\n",
      "Train Loss: 1.0864\n",
      "Validation Loss: 0.5135\n",
      "--------------------------------------------------\n",
      "Epoch [8/112]\n",
      "Train Loss: 1.0849\n",
      "Validation Loss: 0.5121\n",
      "--------------------------------------------------\n",
      "Epoch [9/112]\n",
      "Train Loss: 1.0839\n",
      "Validation Loss: 0.5115\n",
      "--------------------------------------------------\n",
      "Epoch [10/112]\n",
      "Train Loss: 1.0829\n",
      "Validation Loss: 0.5108\n",
      "--------------------------------------------------\n",
      "Epoch [11/112]\n",
      "Train Loss: 1.0817\n",
      "Validation Loss: 0.5104\n",
      "--------------------------------------------------\n",
      "Epoch [12/112]\n",
      "Train Loss: 1.0813\n",
      "Validation Loss: 0.5103\n",
      "--------------------------------------------------\n",
      "Epoch [13/112]\n",
      "Train Loss: 1.0804\n",
      "Validation Loss: 0.5101\n",
      "New best model saved!\n",
      "--------------------------------------------------\n",
      "Epoch [14/112]\n",
      "Train Loss: 1.0803\n",
      "Validation Loss: 0.5101\n",
      "--------------------------------------------------\n",
      "Epoch [15/112]\n",
      "Train Loss: 1.0792\n",
      "Validation Loss: 0.5101\n",
      "--------------------------------------------------\n",
      "Epoch [16/112]\n",
      "Train Loss: 1.0839\n",
      "Validation Loss: 0.5401\n",
      "--------------------------------------------------\n",
      "Epoch [17/112]\n",
      "Train Loss: 1.0887\n",
      "Validation Loss: 0.5132\n",
      "--------------------------------------------------\n",
      "Epoch [18/112]\n",
      "Train Loss: 1.0840\n",
      "Validation Loss: 0.5106\n",
      "--------------------------------------------------\n",
      "Epoch [19/112]\n",
      "Train Loss: 1.0800\n",
      "Validation Loss: 0.5142\n",
      "--------------------------------------------------\n",
      "Epoch [20/112]\n",
      "Train Loss: 1.0830\n",
      "Validation Loss: 0.5104\n",
      "--------------------------------------------------\n",
      "Epoch [21/112]\n",
      "Train Loss: 1.0812\n",
      "Validation Loss: 0.5109\n",
      "--------------------------------------------------\n",
      "Epoch [22/112]\n",
      "Train Loss: 1.0790\n",
      "Validation Loss: 0.5102\n",
      "--------------------------------------------------\n",
      "Epoch [23/112]\n",
      "Train Loss: 1.0773\n",
      "Validation Loss: 0.5105\n",
      "--------------------------------------------------\n",
      "Epoch [24/112]\n",
      "Train Loss: 1.0757\n",
      "Validation Loss: 0.5108\n",
      "--------------------------------------------------\n",
      "Epoch [25/112]\n",
      "Train Loss: 1.0746\n",
      "Validation Loss: 0.5111\n",
      "--------------------------------------------------\n",
      "Epoch [26/112]\n",
      "Train Loss: 1.0738\n",
      "Validation Loss: 0.5113\n",
      "--------------------------------------------------\n",
      "Epoch [27/112]\n",
      "Train Loss: 1.0731\n",
      "Validation Loss: 0.5115\n",
      "--------------------------------------------------\n",
      "Epoch [28/112]\n",
      "Train Loss: 1.0724\n",
      "Validation Loss: 0.5117\n",
      "--------------------------------------------------\n",
      "Epoch [29/112]\n",
      "Train Loss: 1.0719\n",
      "Validation Loss: 0.5118\n",
      "--------------------------------------------------\n",
      "Epoch [30/112]\n",
      "Train Loss: 1.0713\n",
      "Validation Loss: 0.5120\n",
      "--------------------------------------------------\n",
      "Epoch [31/112]\n",
      "Train Loss: 1.0708\n",
      "Validation Loss: 0.5122\n",
      "Early stopping triggered after 31 epochs\n"
     ]
    }
   ],
   "source": [
    "num_epochs = 112\n",
    "patience = 18  # For early stopping\n",
    "epochs_without_improvement = 0\n",
    "\n",
    "train_losses = []\n",
    "val_losses = []\n",
    "\n",
    "for epoch in range(num_epochs):\n",
    "    model.train()\n",
    "    epoch_train_loss = 0\n",
    "    for sequences, targets in train_loader:\n",
    "        sequences, targets = sequences.to(device), targets.to(device)\n",
    "        optimizer.zero_grad()\n",
    "        outputs = model(sequences)\n",
    "        loss = criterion(outputs, targets)\n",
    "        loss.backward()\n",
    "        optimizer.step()\n",
    "        epoch_train_loss += loss.item()\n",
    "    \n",
    "    avg_train_loss = epoch_train_loss / len(train_loader)\n",
    "    train_losses.append(avg_train_loss)\n",
    "    \n",
    "    # Validation phase\n",
    "    model.eval()\n",
    "    epoch_val_loss = 0\n",
    "    with torch.no_grad():\n",
    "        for sequences, targets in val_loader:\n",
    "            sequences, targets = sequences.to(device), targets.to(device)\n",
    "            outputs = model(sequences)\n",
    "            val_loss = criterion(outputs, targets)\n",
    "            epoch_val_loss += val_loss.item()\n",
    "    \n",
    "    avg_val_loss = epoch_val_loss / len(val_loader)\n",
    "    val_losses.append(avg_val_loss)\n",
    "    \n",
    "    # Print statistics\n",
    "    print(f'Epoch [{epoch+1}/{num_epochs}]')\n",
    "    print(f'Train Loss: {avg_train_loss:.4f}')\n",
    "    print(f'Validation Loss: {avg_val_loss:.4f}')\n",
    "    \n",
    "    # Early stopping check\n",
    "    if avg_val_loss < best_val_loss:\n",
    "        best_val_loss = avg_val_loss\n",
    "        epochs_without_improvement = 0\n",
    "        # When saving the model, move it to CPU first\n",
    "        torch.save(model.to('cpu').state_dict(), 'best_lstm_model.pth')\n",
    "        model.to(device)  # Move it back to the device if you continue training\n",
    "        print(\"New best model saved!\")\n",
    "    else:\n",
    "        epochs_without_improvement += 1\n",
    "        if epochs_without_improvement >= patience:\n",
    "            print(f\"Early stopping triggered after {epoch+1} epochs\")\n",
    "            break\n",
    "    \n",
    "    print('-' * 50)"
   ]
  },
  {
   "cell_type": "code",
   "execution_count": 35,
   "metadata": {},
   "outputs": [],
   "source": [
    "\"\"\"\n",
    "### **5. Model Inference and Graphing**\n",
    "\n",
    "**Objective:** Use the trained model to make predictions, compare them with actual stock prices, and visualize the results.\n",
    "\n",
    "- **Load the Trained Model:**\n",
    "\"\"\"\n",
    "\n",
    "model = EnhancedLSTMModel(hidden_size=2048, num_layers=3).to(device)\n",
    "model.load_state_dict(torch.load('best_lstm_model.pth', weights_only=True))\n",
    "model.eval()\n",
    "\n",
    "# Select a starting point for prediction\n",
    "start_idx = 0  # Change as needed\n",
    "input_seq = pct_changes[start_idx:start_idx + sequence_length]\n",
    "# input_seq = torch.tensor(input_seq, dtype=torch.float32).unsqueeze(0)  # Add batch dimension\n",
    "input_seq = torch.tensor(input_seq, dtype=torch.float32).unsqueeze(0).to(device)  # Add batch and feature dimensions"
   ]
  },
  {
   "cell_type": "code",
   "execution_count": 36,
   "metadata": {},
   "outputs": [
    {
     "data": {
      "text/plain": [
       "torch.Size([1, 10])"
      ]
     },
     "execution_count": 36,
     "metadata": {},
     "output_type": "execute_result"
    }
   ],
   "source": [
    "input_seq.shape"
   ]
  },
  {
   "cell_type": "code",
   "execution_count": 37,
   "metadata": {},
   "outputs": [
    {
     "data": {
      "text/plain": [
       "tensor([-1.9102,  0.9455, -1.6944,  2.1183, -2.1677, -1.8892, -3.5761,  1.6777,\n",
       "        -0.7531,  4.3861], device='mps:0')"
      ]
     },
     "execution_count": 37,
     "metadata": {},
     "output_type": "execute_result"
    }
   ],
   "source": [
    "input_seq[0]"
   ]
  },
  {
   "cell_type": "code",
   "execution_count": 38,
   "metadata": {},
   "outputs": [],
   "source": [
    "\"\"\"\n",
    "- **Autoregressive Prediction:**\n",
    "\"\"\"\n",
    "\n",
    "prediction_length = 20  # Number of future steps to predict\n",
    "predictions = []\n",
    "\n",
    "with torch.no_grad():\n",
    "    for _ in range(prediction_length):\n",
    "        input_seq = input_seq.to(device)\n",
    "        # Get the model prediction\n",
    "        pred = model(input_seq)\n",
    "        predictions.append(pred.item())\n",
    "\n",
    "        # Update the input sequence by appending the prediction and removing the first element\n",
    "        input_seq = torch.cat((input_seq[:, 1:], pred.unsqueeze(0).unsqueeze(-1)), dim=1).to(device)"
   ]
  },
  {
   "cell_type": "code",
   "execution_count": 44,
   "metadata": {},
   "outputs": [],
   "source": [
    "\"\"\"\n",
    "- **Denormalize Predictions (If Data Was Normalized):**\n",
    "\"\"\"\n",
    "\n",
    "# If you used StandardScaler\n",
    "predictions = scaler.inverse_transform(np.array(predictions).reshape(-1, 1)).flatten()\n",
    "actual_values = scaler.inverse_transform(pct_changes[start_idx + sequence_length:start_idx + sequence_length + prediction_length].reshape(-1, 1)).flatten()\n",
    "\n",
    "# Reconstruct prices from percentage changes\n",
    "last_known_price = prices[start_idx + sequence_length - 1]  # Adjust to use the last price before predictions start\n",
    "predicted_prices = [last_known_price]\n",
    "actual_prices = [last_known_price]\n",
    "\n",
    "for pred_pct, actual_pct in zip(predictions, actual_values):\n",
    "    next_predicted_price = predicted_prices[-1] * (1 + pred_pct)\n",
    "    next_actual_price = actual_prices[-1] * (1 + actual_pct)\n",
    "    predicted_prices.append(next_predicted_price)\n",
    "    actual_prices.append(next_actual_price)\n",
    "\n",
    "# Create a date range for the x-axis\n",
    "prediction_dates = pd.date_range(start=data_df.index[start_idx + sequence_length - 1], periods=len(predicted_prices), freq='B')\n"
   ]
  },
  {
   "cell_type": "code",
   "execution_count": 47,
   "metadata": {},
   "outputs": [
    {
     "data": {
      "image/png": "[encoded data removed]",
      "text/plain": [
       "<Figure size 1200x600 with 1 Axes>"
      ]
     },
     "metadata": {},
     "output_type": "display_data"
    }
   ],
   "source": [
    "plt.figure(figsize=(12, 6))\n",
    "plt.plot(prediction_dates, predicted_prices, label='Predicted Prices', color='red')\n",
    "plt.plot(prediction_dates, actual_prices, label='Actual Prices', color='blue')\n",
    "plt.title('LSTM Model: Predicted vs Actual Stock Prices')\n",
    "plt.xlabel('Date')\n",
    "plt.ylabel('Price')\n",
    "plt.legend()\n",
    "plt.grid(True)\n",
    "plt.show()\n"
   ]
  },
  {
   "cell_type": "code",
   "execution_count": 48,
   "metadata": {},
   "outputs": [],
   "source": [
    "# After loading the model and setting it to eval mode\n",
    "\n",
    "# Define the validation set range\n",
    "val_start = train_size\n",
    "val_end = train_size + val_size\n",
    "\n",
    "# Define prediction parameters\n",
    "prediction_length = 20  # Number of future steps to predict\n",
    "prediction_interval = 30  # Space between prediction start points\n",
    "\n",
    "# Function to make predictions\n",
    "def make_prediction(start_idx):\n",
    "    input_seq = pct_changes[start_idx:start_idx + sequence_length]\n",
    "    input_seq = torch.tensor(input_seq, dtype=torch.float32).unsqueeze(0).to(device)\n",
    "    \n",
    "    predictions = []\n",
    "    with torch.no_grad():\n",
    "        for _ in range(prediction_length):\n",
    "            pred = model(input_seq)\n",
    "            predictions.append(pred.item())\n",
    "            input_seq = torch.cat((input_seq[:, 1:], pred.unsqueeze(0).unsqueeze(-1)), dim=1)\n",
    "    \n",
    "    return predictions"
   ]
  },
  {
   "cell_type": "code",
   "execution_count": 54,
   "metadata": {},
   "outputs": [
    {
     "data": {
      "text/plain": [
       "array([-1.91015878,  0.94547793, -1.69443369,  2.11834126, -2.16765216,\n",
       "       -1.88922294, -3.57610755,  1.67765322, -0.75308758,  4.3860501 ])"
      ]
     },
     "execution_count": 54,
     "metadata": {},
     "output_type": "execute_result"
    }
   ],
   "source": [
    "input_seq = pct_changes[start_idx:start_idx + sequence_length]\n",
    "input_seq"
   ]
  },
  {
   "cell_type": "code",
   "execution_count": 49,
   "metadata": {},
   "outputs": [],
   "source": [
    "# Make predictions at intervals\n",
    "prediction_starts = range(val_start, val_end - sequence_length - prediction_length, prediction_interval)\n",
    "all_predictions = [make_prediction(start) for start in prediction_starts]"
   ]
  },
  {
   "cell_type": "code",
   "execution_count": 52,
   "metadata": {},
   "outputs": [
    {
     "data": {
      "text/plain": [
       "range(5395, 6100, 30)"
      ]
     },
     "execution_count": 52,
     "metadata": {},
     "output_type": "execute_result"
    }
   ],
   "source": [
    "prediction_starts"
   ]
  },
  {
   "cell_type": "code",
   "execution_count": 50,
   "metadata": {},
   "outputs": [],
   "source": [
    "# Denormalize predictions and prepare for plotting\n",
    "def prepare_prediction_data(predictions, start_idx):\n",
    "    denorm_predictions = scaler.inverse_transform(np.array(predictions).reshape(-1, 1)).flatten()\n",
    "    last_known_price = prices[start_idx + sequence_length - 1]\n",
    "    predicted_prices = [last_known_price]\n",
    "    for pred_pct in denorm_predictions:\n",
    "        next_predicted_price = predicted_prices[-1] * (1 + pred_pct)\n",
    "        predicted_prices.append(next_predicted_price)\n",
    "    prediction_dates = pd.date_range(start=data_df.index[start_idx + sequence_length - 1], \n",
    "                                     periods=len(predicted_prices), freq='B')\n",
    "    return prediction_dates, predicted_prices\n",
    "\n",
    "# Prepare all prediction data\n",
    "all_prediction_data = [prepare_prediction_data(pred, start) \n",
    "                       for pred, start in zip(all_predictions, prediction_starts)]\n",
    "\n",
    "# Prepare actual price data for the entire validation period\n",
    "val_dates = data_df.index[val_start:val_end]\n",
    "val_prices = prices[val_start:val_end]"
   ]
  },
  {
   "cell_type": "code",
   "execution_count": 51,
   "metadata": {},
   "outputs": [
    {
     "data": {
      "image/png": "[encoded data removed]",
      "text/plain": [
       "<Figure size 1500x800 with 1 Axes>"
      ]
     },
     "metadata": {},
     "output_type": "display_data"
    },
    {
     "name": "stdout",
     "output_type": "stream",
     "text": [
      "Mean Squared Error of predictions: 0.0028\n"
     ]
    }
   ],
   "source": [
    "# Plotting\n",
    "plt.figure(figsize=(15, 8))\n",
    "\n",
    "# Plot actual stock price\n",
    "plt.plot(val_dates, val_prices, label='Actual Stock Price', color='blue', linewidth=2)\n",
    "\n",
    "# Plot prediction lines\n",
    "for dates, predicted_prices in all_prediction_data:\n",
    "    plt.plot(dates, predicted_prices, color='red', alpha=0.5, linewidth=1)\n",
    "\n",
    "plt.title('LSTM Model: Multiple Predictions vs Actual Stock Price')\n",
    "plt.xlabel('Date')\n",
    "plt.ylabel('Price')\n",
    "plt.legend()\n",
    "plt.grid(True)\n",
    "plt.show()\n",
    "\n",
    "# Optionally, you can add a legend for predictions\n",
    "plt.plot([], [], color='red', alpha=0.5, label='Predictions')\n",
    "plt.legend()\n",
    "\n",
    "# Save the plot\n",
    "plt.savefig('lstm_predictions.png')\n",
    "plt.close()\n",
    "\n",
    "# Print some statistics\n",
    "mse = np.mean([((pred[-1] - actual) / actual) ** 2 \n",
    "               for (_, pred), actual in zip(all_prediction_data, val_prices[prediction_length::prediction_interval])])\n",
    "print(f\"Mean Squared Error of predictions: {mse:.4f}\")"
   ]
  },
  {
   "cell_type": "code",
   "execution_count": null,
   "metadata": {},
   "outputs": [],
   "source": [
    "!jupyter nbconvert --to python --no-prompt --ClearOutputPreprocessor.enabled=True lstm_nb1.ipynb"
   ]
  }
 ],
 "metadata": {
  "kernelspec": {
   "display_name": "Finpak",
   "language": "python",
   "name": "finpak"
  },
  "language_info": {
   "codemirror_mode": {
    "name": "ipython",
    "version": 3
   },
   "file_extension": ".py",
   "mimetype": "text/x-python",
   "name": "python",
   "nbconvert_exporter": "python",
   "pygments_lexer": "ipython3",
   "version": "3.12.7"
  }
 },
 "nbformat": 4,
 "nbformat_minor": 2
}
