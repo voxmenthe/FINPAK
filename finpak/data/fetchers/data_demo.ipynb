{
 "cells": [
  {
   "cell_type": "code",
   "execution_count": 1,
   "metadata": {},
   "outputs": [],
   "source": [
    "import os\n",
    "from yahoo import check_existing_data, update_data_file, list_available_data, download_historical_data"
   ]
  },
  {
   "cell_type": "code",
   "execution_count": 2,
   "metadata": {},
   "outputs": [],
   "source": [
    "ticker = 'IBM'\n",
    "start_date = '2023-01-01'\n",
    "end_date = '2023-12-31'\n",
    "file_format = 'csv'"
   ]
  },
  {
   "cell_type": "code",
   "execution_count": 3,
   "metadata": {},
   "outputs": [
    {
     "name": "stderr",
     "output_type": "stream",
     "text": [
      "[*********************100%%**********************]  1 of 1 completed\n"
     ]
    },
    {
     "data": {
      "text/html": [
       "<div>\n",
       "<style scoped>\n",
       "    .dataframe tbody tr th:only-of-type {\n",
       "        vertical-align: middle;\n",
       "    }\n",
       "\n",
       "    .dataframe tbody tr th {\n",
       "        vertical-align: top;\n",
       "    }\n",
       "\n",
       "    .dataframe thead th {\n",
       "        text-align: right;\n",
       "    }\n",
       "</style>\n",
       "<table border=\"1\" class=\"dataframe\">\n",
       "  <thead>\n",
       "    <tr style=\"text-align: right;\">\n",
       "      <th></th>\n",
       "      <th>Open</th>\n",
       "      <th>High</th>\n",
       "      <th>Low</th>\n",
       "      <th>Close</th>\n",
       "      <th>Adj Close</th>\n",
       "      <th>Volume</th>\n",
       "    </tr>\n",
       "    <tr>\n",
       "      <th>Date</th>\n",
       "      <th></th>\n",
       "      <th></th>\n",
       "      <th></th>\n",
       "      <th></th>\n",
       "      <th></th>\n",
       "      <th></th>\n",
       "    </tr>\n",
       "  </thead>\n",
       "  <tbody>\n",
       "    <tr>\n",
       "      <th>2023-01-03</th>\n",
       "      <td>141.100006</td>\n",
       "      <td>141.899994</td>\n",
       "      <td>140.479996</td>\n",
       "      <td>141.550003</td>\n",
       "      <td>131.173401</td>\n",
       "      <td>3338600</td>\n",
       "    </tr>\n",
       "    <tr>\n",
       "      <th>2023-01-04</th>\n",
       "      <td>142.070007</td>\n",
       "      <td>143.619995</td>\n",
       "      <td>141.369995</td>\n",
       "      <td>142.600006</td>\n",
       "      <td>132.146439</td>\n",
       "      <td>3869200</td>\n",
       "    </tr>\n",
       "    <tr>\n",
       "      <th>2023-01-05</th>\n",
       "      <td>142.440002</td>\n",
       "      <td>142.500000</td>\n",
       "      <td>140.009995</td>\n",
       "      <td>141.110001</td>\n",
       "      <td>130.765656</td>\n",
       "      <td>2866600</td>\n",
       "    </tr>\n",
       "    <tr>\n",
       "      <th>2023-01-06</th>\n",
       "      <td>142.380005</td>\n",
       "      <td>144.250000</td>\n",
       "      <td>141.580002</td>\n",
       "      <td>143.699997</td>\n",
       "      <td>133.165802</td>\n",
       "      <td>3574000</td>\n",
       "    </tr>\n",
       "    <tr>\n",
       "      <th>2023-01-09</th>\n",
       "      <td>144.080002</td>\n",
       "      <td>145.470001</td>\n",
       "      <td>143.399994</td>\n",
       "      <td>143.550003</td>\n",
       "      <td>133.026779</td>\n",
       "      <td>3987700</td>\n",
       "    </tr>\n",
       "    <tr>\n",
       "      <th>...</th>\n",
       "      <td>...</td>\n",
       "      <td>...</td>\n",
       "      <td>...</td>\n",
       "      <td>...</td>\n",
       "      <td>...</td>\n",
       "      <td>...</td>\n",
       "    </tr>\n",
       "    <tr>\n",
       "      <th>2023-12-22</th>\n",
       "      <td>161.100006</td>\n",
       "      <td>162.410004</td>\n",
       "      <td>161.000000</td>\n",
       "      <td>162.139999</td>\n",
       "      <td>157.716400</td>\n",
       "      <td>2439800</td>\n",
       "    </tr>\n",
       "    <tr>\n",
       "      <th>2023-12-26</th>\n",
       "      <td>162.229996</td>\n",
       "      <td>163.309998</td>\n",
       "      <td>162.050003</td>\n",
       "      <td>163.210007</td>\n",
       "      <td>158.757217</td>\n",
       "      <td>1772400</td>\n",
       "    </tr>\n",
       "    <tr>\n",
       "      <th>2023-12-27</th>\n",
       "      <td>163.139999</td>\n",
       "      <td>163.639999</td>\n",
       "      <td>162.679993</td>\n",
       "      <td>163.460007</td>\n",
       "      <td>159.000397</td>\n",
       "      <td>3234600</td>\n",
       "    </tr>\n",
       "    <tr>\n",
       "      <th>2023-12-28</th>\n",
       "      <td>163.960007</td>\n",
       "      <td>163.960007</td>\n",
       "      <td>163.399994</td>\n",
       "      <td>163.750000</td>\n",
       "      <td>159.282471</td>\n",
       "      <td>2071300</td>\n",
       "    </tr>\n",
       "    <tr>\n",
       "      <th>2023-12-29</th>\n",
       "      <td>163.750000</td>\n",
       "      <td>164.179993</td>\n",
       "      <td>162.830002</td>\n",
       "      <td>163.550003</td>\n",
       "      <td>159.087936</td>\n",
       "      <td>2525600</td>\n",
       "    </tr>\n",
       "  </tbody>\n",
       "</table>\n",
       "<p>250 rows × 6 columns</p>\n",
       "</div>"
      ],
      "text/plain": [
       "                  Open        High         Low       Close   Adj Close  \\\n",
       "Date                                                                     \n",
       "2023-01-03  141.100006  141.899994  140.479996  141.550003  131.173401   \n",
       "2023-01-04  142.070007  143.619995  141.369995  142.600006  132.146439   \n",
       "2023-01-05  142.440002  142.500000  140.009995  141.110001  130.765656   \n",
       "2023-01-06  142.380005  144.250000  141.580002  143.699997  133.165802   \n",
       "2023-01-09  144.080002  145.470001  143.399994  143.550003  133.026779   \n",
       "...                ...         ...         ...         ...         ...   \n",
       "2023-12-22  161.100006  162.410004  161.000000  162.139999  157.716400   \n",
       "2023-12-26  162.229996  163.309998  162.050003  163.210007  158.757217   \n",
       "2023-12-27  163.139999  163.639999  162.679993  163.460007  159.000397   \n",
       "2023-12-28  163.960007  163.960007  163.399994  163.750000  159.282471   \n",
       "2023-12-29  163.750000  164.179993  162.830002  163.550003  159.087936   \n",
       "\n",
       "             Volume  \n",
       "Date                 \n",
       "2023-01-03  3338600  \n",
       "2023-01-04  3869200  \n",
       "2023-01-05  2866600  \n",
       "2023-01-06  3574000  \n",
       "2023-01-09  3987700  \n",
       "...             ...  \n",
       "2023-12-22  2439800  \n",
       "2023-12-26  1772400  \n",
       "2023-12-27  3234600  \n",
       "2023-12-28  2071300  \n",
       "2023-12-29  2525600  \n",
       "\n",
       "[250 rows x 6 columns]"
      ]
     },
     "execution_count": 3,
     "metadata": {},
     "output_type": "execute_result"
    }
   ],
   "source": [
    "download_historical_data(ticker, start_date, end_date, interval='1d', file_format='csv')"
   ]
  },
  {
   "cell_type": "code",
   "execution_count": 4,
   "metadata": {},
   "outputs": [
    {
     "name": "stdout",
     "output_type": "stream",
     "text": [
      "Available data files:\n"
     ]
    }
   ],
   "source": [
    "# List available data\n",
    "print(\"Available data files:\")\n",
    "available_files = list_available_data(ticker, file_format)\n",
    "for file in available_files:\n",
    "    print(file)"
   ]
  },
  {
   "cell_type": "code",
   "execution_count": 5,
   "metadata": {},
   "outputs": [
    {
     "data": {
      "text/plain": [
       "['AAPL.csv', '._AAPL.csv']"
      ]
     },
     "execution_count": 5,
     "metadata": {},
     "output_type": "execute_result"
    }
   ],
   "source": [
    "os.listdir('data_store')"
   ]
  },
  {
   "cell_type": "code",
   "execution_count": 6,
   "metadata": {},
   "outputs": [
    {
     "data": {
      "text/plain": [
       "['AAPL.csv']"
      ]
     },
     "execution_count": 6,
     "metadata": {},
     "output_type": "execute_result"
    }
   ],
   "source": [
    "[f for f in os.listdir('data_store') if f.startswith(f'AAPL') and f.endswith(f'.csv')]"
   ]
  },
  {
   "cell_type": "code",
   "execution_count": null,
   "metadata": {},
   "outputs": [],
   "source": [
    "\n",
    "# Check existing data\n",
    "print(\"\\nChecking existing data:\")\n",
    "existing_data = check_existing_data(ticker, start_date, end_date, file_format=file_format)\n",
    "if existing_data is not None:\n",
    "    print(existing_data)\n",
    "else:\n",
    "    print(\"No existing data found for the specified range.\")\n",
    "\n",
    "# Update data file\n",
    "print(\"\\nUpdating data file:\")\n",
    "update_data_file(ticker, file_format=file_format)\n",
    "print(\"Data file updated.\")"
   ]
  }
 ],
 "metadata": {
  "kernelspec": {
   "display_name": "py3124",
   "language": "python",
   "name": "python3"
  },
  "language_info": {
   "codemirror_mode": {
    "name": "ipython",
    "version": 3
   },
   "file_extension": ".py",
   "mimetype": "text/x-python",
   "name": "python",
   "nbconvert_exporter": "python",
   "pygments_lexer": "ipython3",
   "version": "3.12.4"
  }
 },
 "nbformat": 4,
 "nbformat_minor": 2
}
