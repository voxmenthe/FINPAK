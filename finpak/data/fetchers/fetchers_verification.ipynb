{
 "cells": [
  {
   "cell_type": "code",
   "execution_count": null,
   "metadata": {},
   "outputs": [],
   "source": [
    "import pandas as pd\n",
    "\n",
    "from financial_analysis.data.fetchers.yahoo import (\n",
    "    download_historical_data,\n",
    "    download_multiple_tickers,\n",
    "    save_data_to_file,\n",
    "    update_data_file\n",
    ")"
   ]
  }
 ],
 "metadata": {
  "language_info": {
   "name": "python"
  }
 },
 "nbformat": 4,
 "nbformat_minor": 2
}
